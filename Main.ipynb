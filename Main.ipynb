{
  "cells": [
    {
      "cell_type": "code",
      "execution_count": 2,
      "metadata": {
        "id": "gWdrdn9V-cpX"
      },
      "outputs": [],
      "source": [
        "import os\n",
        "import pandas as pd\n",
        "import numpy as np\n",
        "import matplotlib.pyplot as plt\n",
        "from sklearn import svm\n",
        "from sklearn.model_selection import train_test_split\n",
        "from sklearn.gaussian_process import GaussianProcessRegressor\n",
        "from sklearn.gaussian_process.kernels import RBF, WhiteKernel"
      ]
    },
    {
      "cell_type": "code",
      "execution_count": 3,
      "metadata": {
        "id": "zL38xqrP-_t_"
      },
      "outputs": [],
      "source": [
        "meta_data = pd.read_csv('drive/MyDrive/FYP/Data/meta_data.csv')"
      ]
    },
    {
      "cell_type": "code",
      "execution_count": 4,
      "metadata": {
        "id": "taU-SM5c_ORc"
      },
      "outputs": [],
      "source": [
        "def get_data(N):\n",
        "    data = []\n",
        "    \n",
        "    path = f\"{N}.npz\"\n",
        "    path = os.path.join(\"drive/MyDrive/FYP/Data/npz/\", path)\n",
        "    \n",
        "    bat_files = np.load(path)\n",
        "    bat_files.files\n",
        "    \n",
        "    for bat_file in bat_files['arr_0']:\n",
        "        data.append(bat_file)\n",
        "    \n",
        "    return data"
      ]
    },
    {
      "cell_type": "code",
      "execution_count": 5,
      "metadata": {
        "id": "3gzFOXdn_SNV"
      },
      "outputs": [],
      "source": [
        "def internal_resistance(a, train_ratio = 0.2):\n",
        "  \"\"\"\n",
        "  a : Battery ID.\n",
        "  train_ratio : Training split ratio of data.\n",
        "  \"\"\"\n",
        "\n",
        "  data = []\n",
        "  data = get_data(N = a)\n",
        "\n",
        "  # Time-stamps.\n",
        "  t = []\n",
        "  # Current Data.\n",
        "  I = []\n",
        "  # Voltage Data.\n",
        "  V = []\n",
        "  # Temperature Data.\n",
        "  T = []\n",
        "  \n",
        "  for row in data:\n",
        "    t.append(row[0])\n",
        "    I.append(row[1])\n",
        "    V.append(row[2])\n",
        "    T.append(row[3])\n",
        "\n",
        "  # Current, Voltage and Temperature Histogram.\n",
        "  # plt.hist(I)\n",
        "  # plt.hist(V)\n",
        "  # plt.hist(T)\n",
        "  \n",
        "  # Data Truncation.\n",
        "  X = np.atleast_2d(I[:5000]).T\n",
        "  y = V[:5000]\n",
        "\n",
        "  X_train, X_test, y_train, y_test = train_test_split(X, y, test_size = train_ratio)\n",
        "  \n",
        "  # Create a Gaussian Process Regressor with a Wiener Velocity kernel\n",
        "  kernel = RBF(length_scale=1.0, length_scale_bounds=(1e-1, 10.0)) \\\n",
        "          + WhiteKernel(noise_level=0.1, noise_level_bounds=(1e-10, 1e+1))\n",
        "  # Define the Gaussian process regressor with alpha=0 (no regularization)\n",
        "  gp = GaussianProcessRegressor(kernel=kernel)\n",
        "\n",
        "  # Fit the Gaussian process to the data\n",
        "  gp.fit(X_train, y_train)\n",
        "\n",
        "  # Estimate beta parameter\n",
        "  beta = 1 / (2 * gp.alpha_)\n",
        "\n",
        "  # Make predictions on the test data\n",
        "  y_pred, sigma = gp.predict(X_test, return_std = True)\n",
        "\n",
        "  # Plot the results\n",
        "  # plt.figure()\n",
        "  # plt.plot(X_test, y_test, 'r:', label=u'$f(x)$')\n",
        "  # plt.plot(X_test, y_pred, 'b-', label=u'Prediction')\n",
        "  # plt.fill(np.concatenate([X_test, X_test[::-1]]),\n",
        "  #          np.concatenate([y_pred - 1.9600 * sigma,\n",
        "  #                          (y_pred + 1.9600 * sigma)[::-1]]),\n",
        "  #          alpha=.5, fc='b', ec='None')\n",
        "  # plt.xlabel('$x$')\n",
        "  # plt.ylabel('$f(x)$')\n",
        "  # plt.ylim(-1, 20)\n",
        "  # plt.legend(loc='upper left')\n",
        "  # plt.show()\n",
        "\n",
        "  mse = np.mean((y_test - y_pred) ** 2)\n",
        "  print(\"Mean Squared Error:\", mse)\n",
        "\n",
        "  # Save Internal Resistance .npy file.\n",
        "  np.save(f\"drive/MyDrive/FYP/Internal_Resistance/{a}.npy\", beta)"
      ]
    },
    {
      "cell_type": "code",
      "execution_count": 6,
      "metadata": {
        "colab": {
          "base_uri": "https://localhost:8080/"
        },
        "id": "WBNinxP0E0MJ",
        "outputId": "8d8d3962-3e60-455b-8394-97f441fa5645"
      },
      "outputs": [
        {
          "output_type": "stream",
          "name": "stdout",
          "text": [
            "Mean Squared Error: 0.020346822971595437\n",
            "Mean Squared Error: 0.12714103126816176\n",
            "Mean Squared Error: 0.10698978394294138\n",
            "Mean Squared Error: 0.1638490470694546\n",
            "Mean Squared Error: 0.15345986079899468\n",
            "Mean Squared Error: 0.10222604189050086\n",
            "Mean Squared Error: 0.11686264178481426\n",
            "Mean Squared Error: 0.08578577901113345\n",
            "Mean Squared Error: 0.09639810285331307\n",
            "Mean Squared Error: 0.058748367416072186\n",
            "Mean Squared Error: 0.11389233026610548\n",
            "Mean Squared Error: 0.08784921238424108\n",
            "Mean Squared Error: 0.0601468583946193\n",
            "Mean Squared Error: 0.06462008967276205\n",
            "Mean Squared Error: 0.20661790671169097\n",
            "Mean Squared Error: 0.06672883614496536\n",
            "Mean Squared Error: 0.10601498685546386\n",
            "Mean Squared Error: 0.1303546066484\n",
            "Mean Squared Error: 0.05513414112640015\n",
            "Mean Squared Error: 0.039817595817356714\n",
            "Mean Squared Error: 0.1421903211711188\n",
            "Mean Squared Error: 0.24172157793402232\n",
            "Mean Squared Error: 0.12536300131910072\n",
            "Mean Squared Error: 0.055688072168643854\n",
            "Mean Squared Error: 0.17315130599771322\n",
            "Mean Squared Error: 0.1431932939148136\n",
            "Mean Squared Error: 0.2792624236990481\n",
            "Mean Squared Error: 0.24067421758354648\n",
            "Mean Squared Error: 0.0397918804973583\n",
            "Mean Squared Error: 0.12213752558844612\n",
            "Mean Squared Error: 0.09547297976808448\n",
            "Mean Squared Error: 0.15961793868688887\n",
            "Mean Squared Error: 0.06991059617449472\n",
            "Mean Squared Error: 0.16065508202870407\n",
            "Mean Squared Error: 0.04586248278778857\n",
            "Mean Squared Error: 0.11248614471783727\n",
            "Mean Squared Error: 0.0324275383657617\n",
            "Mean Squared Error: 0.12940077449512483\n",
            "Mean Squared Error: 0.09848055776052336\n",
            "Mean Squared Error: 0.1321908071985904\n",
            "Mean Squared Error: 0.05413845957122232\n",
            "Mean Squared Error: 0.09515685196470708\n",
            "Mean Squared Error: 0.10056259427137257\n",
            "Mean Squared Error: 0.045152191045153674\n",
            "Mean Squared Error: 0.07142649546642309\n",
            "Mean Squared Error: 0.08957015006469723\n",
            "Mean Squared Error: 0.02652394098126914\n",
            "Mean Squared Error: 0.07397682278868954\n",
            "Mean Squared Error: 0.10452398785750441\n",
            "Mean Squared Error: 0.17010220807984977\n",
            "Mean Squared Error: 0.10500877893542952\n"
          ]
        }
      ],
      "source": [
        "# for a in range(536, 587):\n",
        "#   internal_resistance(a)"
      ]
    },
    {
      "cell_type": "code",
      "execution_count": 7,
      "metadata": {
        "id": "tn-9HBUaHQh_"
      },
      "outputs": [],
      "source": [
        " labels = []\n",
        "\n",
        "for label in meta_data[\"STILL_ALIVE\"]:\n",
        "  if label == True:\n",
        "    labels.append(1)\n",
        "  else:\n",
        "    labels.append(0)"
      ]
    },
    {
      "cell_type": "code",
      "source": [
        "# Internal Resistances.\n",
        "R = []\n",
        "# New Labels.\n",
        "U = []\n",
        "\n",
        "\n",
        "for a in range(101):\n",
        "  R.append(\n",
        "      np.load(f\"drive/MyDrive/FYP/Internal_Resistance/{a}.npy\")\n",
        "  )\n",
        "  U.append(labels[a])\n",
        "\n",
        "\n",
        "for a in range(536, 587):\n",
        "  R.append(\n",
        "      np.load(f\"drive/MyDrive/FYP/Internal_Resistance/{a}.npy\")\n",
        "  )\n",
        "  U.append(labels[a])"
      ],
      "metadata": {
        "id": "McesGevZ-V-e"
      },
      "execution_count": 11,
      "outputs": []
    },
    {
      "cell_type": "code",
      "source": [
        "R_train, R_test, U_train, U_test = train_test_split(R, U, test_size = 0.5)"
      ],
      "metadata": {
        "id": "u6zQ0JzX-ZhJ"
      },
      "execution_count": 30,
      "outputs": []
    },
    {
      "cell_type": "code",
      "source": [
        "# SVM using Gaussian Kernel.\n",
        "\n",
        "clf = svm.SVC(kernel=\"rbf\")\n",
        "clf.fit(R_train, U_train)"
      ],
      "metadata": {
        "colab": {
          "base_uri": "https://localhost:8080/"
        },
        "id": "0ShuhBgyBuLR",
        "outputId": "d33e7ab3-9dc1-45e3-d548-e9a40f08630a"
      },
      "execution_count": 31,
      "outputs": [
        {
          "output_type": "execute_result",
          "data": {
            "text/plain": [
              "SVC()"
            ]
          },
          "metadata": {},
          "execution_count": 31
        }
      ]
    },
    {
      "cell_type": "code",
      "source": [
        "clf.predict(R_test)"
      ],
      "metadata": {
        "colab": {
          "base_uri": "https://localhost:8080/"
        },
        "id": "TRMQTvI_CDa5",
        "outputId": "d9a8cbdd-57d7-4246-e397-b09faf4a04a9"
      },
      "execution_count": 32,
      "outputs": [
        {
          "output_type": "execute_result",
          "data": {
            "text/plain": [
              "array([1, 1, 1, 1, 1, 1, 1, 1, 1, 1, 1, 1, 1, 1, 1, 1, 1, 1, 1, 1, 1, 1,\n",
              "       1, 1, 1, 1, 1, 1, 1, 1, 1, 1, 1, 1, 1, 1, 1, 1, 1, 1, 1, 1, 1, 1,\n",
              "       1, 1, 1, 1, 1, 1, 1, 1, 1, 1, 1, 1, 1, 1, 1, 1, 1, 1, 1, 1, 1, 1,\n",
              "       1, 1, 1, 1, 1, 1, 1, 1, 1, 1])"
            ]
          },
          "metadata": {},
          "execution_count": 32
        }
      ]
    },
    {
      "cell_type": "code",
      "source": [],
      "metadata": {
        "id": "n6SZICH8CIAN"
      },
      "execution_count": null,
      "outputs": []
    }
  ],
  "metadata": {
    "accelerator": "GPU",
    "colab": {
      "provenance": []
    },
    "gpuClass": "standard",
    "kernelspec": {
      "display_name": "Python 3",
      "name": "python3"
    },
    "language_info": {
      "name": "python"
    }
  },
  "nbformat": 4,
  "nbformat_minor": 0
}