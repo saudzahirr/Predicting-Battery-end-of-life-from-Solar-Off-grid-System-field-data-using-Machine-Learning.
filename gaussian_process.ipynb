{
 "cells": [
  {
   "cell_type": "code",
   "execution_count": 21,
   "id": "4edaf827",
   "metadata": {},
   "outputs": [],
   "source": [
    "import os\n",
    "import pandas as pd\n",
    "import numpy as np\n",
    "import matplotlib.pyplot as plt\n",
    "from sklearn.model_selection import train_test_split\n",
    "from sklearn.gaussian_process import GaussianProcessRegressor\n",
    "from sklearn.gaussian_process.kernels import RBF, WhiteKernel"
   ]
  },
  {
   "cell_type": "code",
   "execution_count": 22,
   "id": "db02acce",
   "metadata": {},
   "outputs": [],
   "source": [
    "meta_data = pd.read_csv('Data/meta_data.csv')"
   ]
  },
  {
   "cell_type": "code",
   "execution_count": 23,
   "id": "2835208f",
   "metadata": {},
   "outputs": [
    {
     "data": {
      "text/html": [
       "<div>\n",
       "<style scoped>\n",
       "    .dataframe tbody tr th:only-of-type {\n",
       "        vertical-align: middle;\n",
       "    }\n",
       "\n",
       "    .dataframe tbody tr th {\n",
       "        vertical-align: top;\n",
       "    }\n",
       "\n",
       "    .dataframe thead th {\n",
       "        text-align: right;\n",
       "    }\n",
       "</style>\n",
       "<table border=\"1\" class=\"dataframe\">\n",
       "  <thead>\n",
       "    <tr style=\"text-align: right;\">\n",
       "      <th></th>\n",
       "      <th>ID</th>\n",
       "      <th>Lifetime</th>\n",
       "    </tr>\n",
       "  </thead>\n",
       "  <tbody>\n",
       "    <tr>\n",
       "      <th>count</th>\n",
       "      <td>1027.000000</td>\n",
       "      <td>1027.000000</td>\n",
       "    </tr>\n",
       "    <tr>\n",
       "      <th>mean</th>\n",
       "      <td>513.000000</td>\n",
       "      <td>531.314508</td>\n",
       "    </tr>\n",
       "    <tr>\n",
       "      <th>std</th>\n",
       "      <td>296.613666</td>\n",
       "      <td>92.324199</td>\n",
       "    </tr>\n",
       "    <tr>\n",
       "      <th>min</th>\n",
       "      <td>0.000000</td>\n",
       "      <td>401.000000</td>\n",
       "    </tr>\n",
       "    <tr>\n",
       "      <th>25%</th>\n",
       "      <td>256.500000</td>\n",
       "      <td>453.000000</td>\n",
       "    </tr>\n",
       "    <tr>\n",
       "      <th>50%</th>\n",
       "      <td>513.000000</td>\n",
       "      <td>519.000000</td>\n",
       "    </tr>\n",
       "    <tr>\n",
       "      <th>75%</th>\n",
       "      <td>769.500000</td>\n",
       "      <td>592.500000</td>\n",
       "    </tr>\n",
       "    <tr>\n",
       "      <th>max</th>\n",
       "      <td>1026.000000</td>\n",
       "      <td>761.000000</td>\n",
       "    </tr>\n",
       "  </tbody>\n",
       "</table>\n",
       "</div>"
      ],
      "text/plain": [
       "                ID     Lifetime\n",
       "count  1027.000000  1027.000000\n",
       "mean    513.000000   531.314508\n",
       "std     296.613666    92.324199\n",
       "min       0.000000   401.000000\n",
       "25%     256.500000   453.000000\n",
       "50%     513.000000   519.000000\n",
       "75%     769.500000   592.500000\n",
       "max    1026.000000   761.000000"
      ]
     },
     "execution_count": 23,
     "metadata": {},
     "output_type": "execute_result"
    }
   ],
   "source": [
    "meta_data.describe()"
   ]
  },
  {
   "cell_type": "code",
   "execution_count": 24,
   "id": "d27b5e9f",
   "metadata": {},
   "outputs": [],
   "source": [
    "data = []"
   ]
  },
  {
   "cell_type": "code",
   "execution_count": 25,
   "id": "dc0a9658",
   "metadata": {},
   "outputs": [],
   "source": [
    "def get_data(N):\n",
    "    data = []\n",
    "    \n",
    "    path = f\"{N}.npz\"\n",
    "    path = os.path.join(\"Data/npz/\", path)\n",
    "    \n",
    "    bat_files = np.load(path)\n",
    "    bat_files.files\n",
    "    \n",
    "    for bat_file in bat_files['arr_0']:\n",
    "        data.append(bat_file)\n",
    "    \n",
    "    return data"
   ]
  },
  {
   "cell_type": "code",
   "execution_count": 26,
   "id": "d3f5e6b7",
   "metadata": {},
   "outputs": [],
   "source": [
    "data = get_data(N = 256)"
   ]
  },
  {
   "cell_type": "code",
   "execution_count": 27,
   "id": "d267680b",
   "metadata": {},
   "outputs": [],
   "source": [
    "# Time-stamps.\n",
    "\n",
    "t = []\n",
    "for row in data:\n",
    "    t.append(row[0])"
   ]
  },
  {
   "cell_type": "code",
   "execution_count": 28,
   "id": "3d13a09a",
   "metadata": {},
   "outputs": [],
   "source": [
    "# Current Data.\n",
    "\n",
    "C = []\n",
    "for row in data:\n",
    "    C.append(row[1])"
   ]
  },
  {
   "cell_type": "code",
   "execution_count": 29,
   "id": "424c86d3",
   "metadata": {},
   "outputs": [],
   "source": [
    "# Voltage Data.\n",
    "\n",
    "V = []\n",
    "for row in data:\n",
    "    V.append(row[2])"
   ]
  },
  {
   "cell_type": "code",
   "execution_count": 30,
   "id": "78ba9a9e",
   "metadata": {},
   "outputs": [],
   "source": [
    "# Temperature Data.\n",
    "\n",
    "T = []\n",
    "for row in data:\n",
    "    T.append(row[3])"
   ]
  },
  {
   "cell_type": "code",
   "execution_count": 48,
   "id": "29150264",
   "metadata": {},
   "outputs": [],
   "source": [
    "X = np.atleast_2d(C[:1000]).T"
   ]
  },
  {
   "cell_type": "code",
   "execution_count": 49,
   "id": "9943937c",
   "metadata": {},
   "outputs": [],
   "source": [
    "y = V[:1000]"
   ]
  },
  {
   "cell_type": "code",
   "execution_count": 50,
   "id": "0f38d4dd",
   "metadata": {},
   "outputs": [],
   "source": [
    "X_train, X_test, y_train, y_test = train_test_split(X, y, test_size = 0.2)"
   ]
  },
  {
   "cell_type": "code",
   "execution_count": 51,
   "id": "a269b29b",
   "metadata": {},
   "outputs": [],
   "source": [
    "# Create a Gaussian Process Regressor with a Wiener Velocity kernel\n",
    "kernel = RBF(length_scale=1.0, length_scale_bounds=(1e-1, 10.0)) \\\n",
    "        + WhiteKernel(noise_level=0.1, noise_level_bounds=(1e-10, 1e+1))"
   ]
  },
  {
   "cell_type": "code",
   "execution_count": 52,
   "id": "6e9f80df",
   "metadata": {},
   "outputs": [],
   "source": [
    "# Define the Gaussian process regressor with alpha=0 (no regularization)\n",
    "gp = GaussianProcessRegressor(kernel=kernel)"
   ]
  },
  {
   "cell_type": "code",
   "execution_count": 53,
   "id": "887718eb",
   "metadata": {},
   "outputs": [
    {
     "data": {
      "text/html": [
       "<style>#sk-container-id-3 {color: black;background-color: white;}#sk-container-id-3 pre{padding: 0;}#sk-container-id-3 div.sk-toggleable {background-color: white;}#sk-container-id-3 label.sk-toggleable__label {cursor: pointer;display: block;width: 100%;margin-bottom: 0;padding: 0.3em;box-sizing: border-box;text-align: center;}#sk-container-id-3 label.sk-toggleable__label-arrow:before {content: \"▸\";float: left;margin-right: 0.25em;color: #696969;}#sk-container-id-3 label.sk-toggleable__label-arrow:hover:before {color: black;}#sk-container-id-3 div.sk-estimator:hover label.sk-toggleable__label-arrow:before {color: black;}#sk-container-id-3 div.sk-toggleable__content {max-height: 0;max-width: 0;overflow: hidden;text-align: left;background-color: #f0f8ff;}#sk-container-id-3 div.sk-toggleable__content pre {margin: 0.2em;color: black;border-radius: 0.25em;background-color: #f0f8ff;}#sk-container-id-3 input.sk-toggleable__control:checked~div.sk-toggleable__content {max-height: 200px;max-width: 100%;overflow: auto;}#sk-container-id-3 input.sk-toggleable__control:checked~label.sk-toggleable__label-arrow:before {content: \"▾\";}#sk-container-id-3 div.sk-estimator input.sk-toggleable__control:checked~label.sk-toggleable__label {background-color: #d4ebff;}#sk-container-id-3 div.sk-label input.sk-toggleable__control:checked~label.sk-toggleable__label {background-color: #d4ebff;}#sk-container-id-3 input.sk-hidden--visually {border: 0;clip: rect(1px 1px 1px 1px);clip: rect(1px, 1px, 1px, 1px);height: 1px;margin: -1px;overflow: hidden;padding: 0;position: absolute;width: 1px;}#sk-container-id-3 div.sk-estimator {font-family: monospace;background-color: #f0f8ff;border: 1px dotted black;border-radius: 0.25em;box-sizing: border-box;margin-bottom: 0.5em;}#sk-container-id-3 div.sk-estimator:hover {background-color: #d4ebff;}#sk-container-id-3 div.sk-parallel-item::after {content: \"\";width: 100%;border-bottom: 1px solid gray;flex-grow: 1;}#sk-container-id-3 div.sk-label:hover label.sk-toggleable__label {background-color: #d4ebff;}#sk-container-id-3 div.sk-serial::before {content: \"\";position: absolute;border-left: 1px solid gray;box-sizing: border-box;top: 0;bottom: 0;left: 50%;z-index: 0;}#sk-container-id-3 div.sk-serial {display: flex;flex-direction: column;align-items: center;background-color: white;padding-right: 0.2em;padding-left: 0.2em;position: relative;}#sk-container-id-3 div.sk-item {position: relative;z-index: 1;}#sk-container-id-3 div.sk-parallel {display: flex;align-items: stretch;justify-content: center;background-color: white;position: relative;}#sk-container-id-3 div.sk-item::before, #sk-container-id-3 div.sk-parallel-item::before {content: \"\";position: absolute;border-left: 1px solid gray;box-sizing: border-box;top: 0;bottom: 0;left: 50%;z-index: -1;}#sk-container-id-3 div.sk-parallel-item {display: flex;flex-direction: column;z-index: 1;position: relative;background-color: white;}#sk-container-id-3 div.sk-parallel-item:first-child::after {align-self: flex-end;width: 50%;}#sk-container-id-3 div.sk-parallel-item:last-child::after {align-self: flex-start;width: 50%;}#sk-container-id-3 div.sk-parallel-item:only-child::after {width: 0;}#sk-container-id-3 div.sk-dashed-wrapped {border: 1px dashed gray;margin: 0 0.4em 0.5em 0.4em;box-sizing: border-box;padding-bottom: 0.4em;background-color: white;}#sk-container-id-3 div.sk-label label {font-family: monospace;font-weight: bold;display: inline-block;line-height: 1.2em;}#sk-container-id-3 div.sk-label-container {text-align: center;}#sk-container-id-3 div.sk-container {/* jupyter's `normalize.less` sets `[hidden] { display: none; }` but bootstrap.min.css set `[hidden] { display: none !important; }` so we also need the `!important` here to be able to override the default hidden behavior on the sphinx rendered scikit-learn.org. See: https://github.com/scikit-learn/scikit-learn/issues/21755 */display: inline-block !important;position: relative;}#sk-container-id-3 div.sk-text-repr-fallback {display: none;}</style><div id=\"sk-container-id-3\" class=\"sk-top-container\"><div class=\"sk-text-repr-fallback\"><pre>GaussianProcessRegressor(kernel=RBF(length_scale=1) + WhiteKernel(noise_level=0.1))</pre><b>In a Jupyter environment, please rerun this cell to show the HTML representation or trust the notebook. <br />On GitHub, the HTML representation is unable to render, please try loading this page with nbviewer.org.</b></div><div class=\"sk-container\" hidden><div class=\"sk-item\"><div class=\"sk-estimator sk-toggleable\"><input class=\"sk-toggleable__control sk-hidden--visually\" id=\"sk-estimator-id-3\" type=\"checkbox\" checked><label for=\"sk-estimator-id-3\" class=\"sk-toggleable__label sk-toggleable__label-arrow\">GaussianProcessRegressor</label><div class=\"sk-toggleable__content\"><pre>GaussianProcessRegressor(kernel=RBF(length_scale=1) + WhiteKernel(noise_level=0.1))</pre></div></div></div></div></div>"
      ],
      "text/plain": [
       "GaussianProcessRegressor(kernel=RBF(length_scale=1) + WhiteKernel(noise_level=0.1))"
      ]
     },
     "execution_count": 53,
     "metadata": {},
     "output_type": "execute_result"
    }
   ],
   "source": [
    "# Fit the Gaussian process to the data\n",
    "gp.fit(X_train, y_train)"
   ]
  },
  {
   "cell_type": "code",
   "execution_count": 54,
   "id": "3def8f07",
   "metadata": {},
   "outputs": [],
   "source": [
    "# Estimate beta parameter\n",
    "beta = 1 / (2 * gp.alpha_)"
   ]
  },
  {
   "cell_type": "code",
   "execution_count": 55,
   "id": "54b1e87c",
   "metadata": {},
   "outputs": [
    {
     "data": {
      "text/plain": [
       "array([ 3.89806811e-01, -2.33862484e-01, -1.16915044e+00,  1.34496945e-01,\n",
       "       -1.13546246e-01,  2.65387841e-01,  3.03750818e-01, -1.74670606e-01,\n",
       "       -4.03995458e-01, -1.15648308e-01, -1.28089788e-01, -5.73519722e-02,\n",
       "       -1.49275796e-01,  2.65427936e-02, -2.23799526e-01,  7.01085004e-02,\n",
       "       -6.07450598e-02,  2.49102120e-01,  1.43677819e-01, -5.58307123e-02,\n",
       "        3.38267073e-02, -5.58307123e-02,  4.39051318e-01, -2.36230687e-01,\n",
       "       -6.88973414e-02, -1.22371925e-01, -1.45895595e-01, -9.01416342e-02,\n",
       "        3.34930568e-02, -3.95821310e-01, -9.41747606e-02, -1.94146783e-01,\n",
       "       -2.45019638e-01, -1.48784047e-01, -6.26433253e-02, -9.01416342e-02,\n",
       "       -1.63273570e-01,  1.18919341e-01,  2.72471683e-02, -1.80057049e-01,\n",
       "       -3.48276421e-01,  1.82241738e-01, -1.63273570e-01, -1.36248968e-01,\n",
       "       -3.02840410e-01, -8.28665128e-02, -1.30327841e-01,  8.82542042e-02,\n",
       "       -5.41984088e-01, -7.38530609e-02, -1.32782549e-01,  6.73293914e-02,\n",
       "       -4.31003053e-01, -5.73790898e-01, -1.50976636e-01,  2.94161398e-02,\n",
       "        1.43677819e-01,  5.63353633e-01,  1.82241738e-01, -7.67364506e-01,\n",
       "        2.99135657e-02,  1.02870830e-01, -8.28665128e-02,  2.79899466e-02,\n",
       "       -2.36160755e-01, -1.81804439e-01, -1.81804439e-01, -1.16047545e-01,\n",
       "        5.25336148e-02,  3.03667107e-02, -6.45648813e-02, -9.41747606e-02,\n",
       "       -6.28849486e-01,  3.86224068e-01, -2.81490335e-01, -2.20922813e-01,\n",
       "       -6.26433253e-02,  1.74304042e-01, -2.00791613e-01, -1.49275796e-01,\n",
       "       -2.64748770e-01, -8.62626380e-02, -2.81490335e-01, -5.43178923e-02,\n",
       "       -1.60670624e-01, -1.22447010e-01,  5.73787771e-02, -1.27577765e-01,\n",
       "       -7.38530609e-02,  2.21568877e-01, -2.13874214e-01, -8.62626380e-02,\n",
       "        3.42662182e-01,  1.60291748e-01,  1.01195519e-01, -7.38530609e-02,\n",
       "       -1.23353583e-01, -6.67136121e-02,  7.28041997e-02,  2.65427936e-02,\n",
       "       -6.07450598e-02, -4.55711504e-02, -5.90411459e-02,  2.68817834e-02,\n",
       "       -1.63273570e-01, -9.01416342e-02, -5.90411459e-02,  5.63999389e-02,\n",
       "       -5.43178923e-02,  3.96963437e-02, -1.48784047e-01, -1.60101078e-01,\n",
       "       -2.37339464e+00,  2.72471683e-02,  4.90745376e-01,  1.10973555e-01,\n",
       "       -6.26433253e-02, -2.80528098e+00, -4.31003053e-01, -2.71190277e-01,\n",
       "        8.46447042e+00, -1.63273570e-01,  2.96883583e-02, -6.18188867e-02,\n",
       "       -2.04153802e-01, -1.63273570e-01, -1.09340321e-01,  5.21595217e-02,\n",
       "        4.83904853e-01, -8.28665128e-02, -8.62626380e-02, -1.36248968e-01,\n",
       "       -1.36248968e-01, -1.30327841e-01, -1.63273570e-01, -1.21671718e-01,\n",
       "       -2.19399177e-01, -3.38940319e-01,  4.88041228e-02,  2.51618981e-01,\n",
       "       -2.01450151e-01,  1.67054550e-01, -7.38530609e-02, -1.48784047e-01,\n",
       "        8.77710009e-01, -2.64748770e-01,  5.44803526e-02,  2.68817834e-02,\n",
       "        2.14310530e-01, -2.12782777e-01,  2.82540045e-01, -6.26433253e-02,\n",
       "       -6.07450598e-02, -2.89920341e-01,  1.54770846e-01,  2.61959356e-02,\n",
       "       -1.89677516e-01,  5.18157799e+00,  5.08982226e-02, -1.38930162e-01,\n",
       "        1.34496945e-01, -5.43178923e-02, -1.60670624e-01,  2.21568877e-01,\n",
       "       -8.28665128e-02,  2.21568877e-01,  6.28379642e-02, -1.15648308e-01,\n",
       "        7.00787258e-02, -1.81804439e-01,  1.73612565e-01, -1.30327841e-01,\n",
       "       -1.30327841e-01,  1.06575619e-01, -4.33958758e-01, -4.33958758e-01,\n",
       "       -2.10476964e-01,  1.41582177e-01,  8.05004194e-02, -3.56732890e-01,\n",
       "       -2.89920341e-01,  2.83862995e-02, -8.62626380e-02,  3.28896529e-01,\n",
       "       -2.10476964e-01,  4.36495522e-02, -6.88973414e-02,  9.80207984e-02,\n",
       "        1.67054550e-01, -1.34244094e-01,  1.54770846e-01, -5.58307123e-02,\n",
       "       -1.48784047e-01, -1.22371925e-01, -5.73519722e-02, -1.36248968e-01,\n",
       "        1.40030788e-01, -5.90411459e-02, -6.26433253e-02,  1.89123131e-01,\n",
       "       -8.08257613e-01, -6.26433253e-02, -4.33958758e-01, -6.45648813e-02,\n",
       "        4.70729291e-02, -4.31003053e-01, -2.46830009e-01, -7.66780093e-02,\n",
       "        1.01195519e-01, -7.66780093e-02, -3.38940319e-01, -7.95769547e-02,\n",
       "       -2.13874214e-01, -1.73997690e-01, -7.13495938e-02,  6.09698525e-02,\n",
       "       -1.63273570e-01, -9.41747606e-02, -3.43638702e-01,  1.34496945e-01,\n",
       "        1.92440100e-01, -3.18168109e+00,  5.44803526e-02, -1.90477455e-01,\n",
       "        4.83904853e-01,  7.65458015e-02,  1.34496945e-01, -5.73519722e-02,\n",
       "       -1.52151874e-01, -1.81804439e-01,  2.65427936e-02, -2.26082134e-01,\n",
       "       -9.01416342e-02,  1.06575619e-01, -8.08257613e-01,  2.76226230e-02,\n",
       "       -1.03940882e-01, -1.09983725e-01,  7.28041997e-02,  1.37589235e-01,\n",
       "        2.76226230e-02,  1.89069086e-01,  8.63718399e-01, -4.16343615e-01,\n",
       "       -1.22371925e-01,  3.28896529e-01, -1.09340321e-01, -1.70233371e-01,\n",
       "        9.21165853e-02,  1.61949240e+00, -7.13495938e-02,  2.72471683e-02,\n",
       "        4.83904853e-01, -7.51643193e-01, -7.66780093e-02,  2.37956626e-01,\n",
       "       -7.38530609e-02,  2.61959356e-02,  2.62595758e-01,  2.82540045e-01,\n",
       "        1.54770846e-01, -1.27577765e-01,  9.15269820e-01, -4.44532968e-01,\n",
       "       -4.73021613e-01, -1.03940882e-01, -1.77003887e-01,  3.89806811e-01,\n",
       "       -7.95769547e-02,  9.21165853e-02, -6.67136121e-02, -1.90477455e-01,\n",
       "        5.31859650e-02, -6.07450598e-02, -5.73519722e-02,  7.65458015e-02,\n",
       "       -1.22415414e-01,  2.52460126e-01, -2.04153802e-01, -1.60101078e-01,\n",
       "       -1.74670606e-01, -5.58307123e-02, -2.10476964e-01, -1.63273570e-01,\n",
       "       -1.27577765e-01, -2.80528098e+00,  6.28379642e-02, -1.48784047e-01,\n",
       "        9.21165853e-02, -5.58307123e-02,  8.34512439e-02, -9.41747606e-02,\n",
       "       -1.36127427e-01, -5.41984088e-01, -6.07450598e-02,  5.92534825e-02,\n",
       "        9.15269820e-01,  7.19598705e-02, -1.33052260e-01, -5.73519722e-02,\n",
       "       -1.30327841e-01,  1.12259747e-01,  6.19752090e-01,  9.15269820e-01,\n",
       "       -1.49275796e-01, -9.41747606e-02, -2.80528098e+00,  2.74318810e-01,\n",
       "        2.23547498e-01, -1.52523954e-01, -1.48784047e-01, -1.38504115e-01,\n",
       "       -7.13495938e-02,  1.34496945e-01, -1.16915044e+00, -1.15648308e-01,\n",
       "        1.28623642e+00, -6.67136121e-02,  3.72278523e-02,  2.82540045e-01,\n",
       "        2.72471683e-02, -9.41747606e-02,  2.49102120e-01,  8.46447042e+00,\n",
       "       -1.56929927e-01,  2.94687721e-01,  2.79899466e-02,  9.35301498e-02,\n",
       "       -9.88171105e-02,  1.92444066e-01,  2.00466453e-01,  3.38903294e-01,\n",
       "        1.72588740e-01, -1.18781610e-01, -1.27980512e-01,  1.72427456e+00,\n",
       "       -1.60101078e-01, -6.26433253e-02, -6.26433253e-02, -7.51643193e-01,\n",
       "       -1.60101078e-01, -2.73207489e-01, -2.46830009e-01, -2.73207489e-01,\n",
       "       -9.01416342e-02, -6.26433253e-02, -8.28665128e-02, -1.90477455e-01,\n",
       "        9.56871999e-02, -1.49275796e-01, -2.74409821e+00, -7.38530609e-02,\n",
       "       -9.01416342e-02,  2.00753395e-01,  2.72471683e-02,  7.22441214e-01,\n",
       "       -1.81804439e-01, -8.28665128e-02, -7.51643193e-01,  1.34496945e-01,\n",
       "       -1.03940882e-01, -1.46273807e-01,  6.08544836e-01, -1.52771555e+01,\n",
       "       -1.18439995e-01, -1.36248968e-01, -7.95769547e-02, -1.68543832e+00,\n",
       "       -1.89677516e-01,  2.96883583e-02,  2.76226230e-02,  5.35397621e-02,\n",
       "       -9.41747606e-02, -6.45648813e-02,  2.65427936e-02, -5.90411459e-02,\n",
       "       -1.90477455e-01, -2.64748770e-01,  5.94613124e-02, -2.20922813e-01,\n",
       "       -6.88973414e-02, -7.95769547e-02,  5.25336148e-02, -1.36248968e-01,\n",
       "       -2.20922813e-01,  7.34591748e-02, -2.89920341e-01,  6.00949636e-02,\n",
       "       -6.88973414e-02, -1.90477455e-01,  2.65427936e-02,  6.60570192e-02,\n",
       "       -5.73519722e-02, -5.58307123e-02, -1.27577765e-01, -6.67136121e-02,\n",
       "        2.25651110e-01, -6.45648813e-02, -9.88171105e-02, -3.38940319e-01,\n",
       "        2.83862995e-02, -1.38504115e-01,  1.26040392e-01, -1.13969205e-01,\n",
       "       -6.88973414e-02, -1.15648308e-01, -6.88973414e-02, -1.58888308e-01,\n",
       "        2.68817834e-02, -2.89920341e-01, -1.16915044e+00, -2.16702862e-01,\n",
       "        3.28896529e-01, -3.21509680e-02,  7.19598705e-02,  2.79899466e-02,\n",
       "       -1.36248968e-01, -5.43178923e-02,  8.42985274e+00, -5.46666192e-01,\n",
       "       -2.80528098e+00, -2.47608657e-01, -3.38940319e-01, -6.67136121e-02,\n",
       "        1.63143996e-01, -1.36248968e-01, -5.90411459e-02,  2.83862995e-02,\n",
       "       -1.28658456e-01, -5.24199125e-01,  2.87743572e-02, -1.95953725e-01,\n",
       "       -1.60101078e-01, -2.46830009e-01, -3.02840410e-01, -1.74670606e-01,\n",
       "       -1.34862756e-01,  2.21568877e-01,  1.12259747e-01, -5.58307123e-02,\n",
       "       -1.36248968e-01,  1.65457552e-01, -5.43178923e-02, -7.13495938e-02,\n",
       "        5.92534825e-02,  3.89806811e-01,  7.00787258e-02, -1.29226050e-01,\n",
       "        3.89806811e-01,  1.12259747e-01, -5.43178923e-02, -2.23895765e-01,\n",
       "        1.70145383e-01, -3.02840410e-01,  1.26040392e-01, -7.13495938e-02,\n",
       "       -1.60101078e-01, -2.78321170e-01,  2.20179854e-01,  6.35907880e-02,\n",
       "        5.94613124e-02, -6.45648813e-02, -3.46896315e-02, -1.90477455e-01,\n",
       "       -1.63273570e-01, -6.88973414e-02,  6.28367506e-01,  3.75065647e-01,\n",
       "       -4.76948503e-01,  1.73626521e-01, -1.48784047e-01, -1.23649505e-01,\n",
       "       -5.90411459e-02,  2.90043035e-01, -4.33958758e-01,  1.82241738e-01,\n",
       "        6.36651508e-02, -1.36248968e-01,  4.66120981e-02,  2.82540045e-01,\n",
       "       -7.66780093e-02, -3.33597245e-01, -7.66780093e-02, -1.66687026e-01,\n",
       "       -6.45648813e-02,  8.42985274e+00, -2.26082134e-01, -9.88171105e-02,\n",
       "       -1.13466004e-01,  2.65387841e-01, -1.21758812e-01, -3.38940319e-01,\n",
       "        3.15074711e-01, -1.94146783e-01, -5.84000990e-01, -1.00387278e+00,\n",
       "        1.43677819e-01,  1.82241738e-01, -7.05215469e-01, -7.66780093e-02,\n",
       "        3.78981503e-02,  3.72278523e-02,  1.00101694e+00, -5.43178923e-02,\n",
       "       -3.55960035e-01, -6.30352907e-01, -3.59263421e-02, -1.94146783e-01,\n",
       "       -6.88973414e-02, -1.38930162e-01, -9.02315545e-01,  2.83862995e-02,\n",
       "        5.92534825e-02,  4.47689728e-02,  9.15269820e-01,  9.15269820e-01,\n",
       "       -2.20922813e-01,  5.31859650e-02, -7.66780093e-02, -6.07450598e-02,\n",
       "       -2.80528098e+00, -8.08257613e-01, -1.27577765e-01, -3.56359474e-01,\n",
       "       -5.90411459e-02,  2.79899466e-02,  5.83844161e-02, -1.40008824e-01,\n",
       "       -1.48784047e-01,  1.14247838e-01, -1.63273570e-01, -1.60670624e-01,\n",
       "       -7.13495938e-02, -1.48784047e-01,  3.89806811e-01,  8.42985274e+00,\n",
       "       -7.51643193e-01, -1.15648308e-01, -3.02840410e-01, -7.66780093e-02,\n",
       "       -5.73519722e-02,  1.61949240e+00, -2.10476964e-01,  3.89806811e-01,\n",
       "        4.83904853e-01, -1.09340321e-01,  2.87743572e-02, -7.05766367e-02,\n",
       "       -2.19399177e-01,  2.76226230e-02, -8.28665128e-02, -7.05766367e-02,\n",
       "       -2.10476964e-01,  2.70538874e-02, -1.48784047e-01, -2.81490335e-01,\n",
       "        3.03667107e-02, -1.48784047e-01,  6.36651508e-02, -7.38530609e-02,\n",
       "       -2.80528098e+00, -1.22371925e-01, -1.74670606e-01, -4.33958758e-01,\n",
       "       -2.10476964e-01,  2.83862995e-02, -6.45648813e-02, -8.62626380e-02,\n",
       "       -1.34862756e-01, -1.60101078e-01, -1.48784047e-01,  7.22441214e-01,\n",
       "       -5.46666192e-01,  2.76226230e-02, -2.92233144e-01,  6.28367506e-01,\n",
       "       -9.88171105e-02,  6.20640597e-02,  7.28317542e-01,  1.34496945e-01,\n",
       "       -8.62626380e-02,  1.82241738e-01,  2.72471683e-02, -6.45648813e-02,\n",
       "        1.12259747e-01,  1.79366462e-01,  6.12135701e-01, -1.60101078e-01,\n",
       "       -4.84320440e-01,  1.89360443e-01,  2.65427936e-02, -1.08259074e-01,\n",
       "       -9.88171105e-02, -6.26433253e-02,  7.08624069e-02,  2.72471683e-02,\n",
       "        1.68174431e-01, -3.02840410e-01,  2.72471683e-02,  6.28367506e-01,\n",
       "       -1.30327841e-01, -1.48784047e-01, -1.38930162e-01,  2.72471683e-02,\n",
       "       -1.15648308e-01,  6.43885778e-02, -6.67136121e-02,  9.80207984e-02,\n",
       "       -1.60101078e-01,  2.76226230e-02, -1.36248968e-01,  8.42985274e+00,\n",
       "       -1.60101078e-01, -1.14390820e-01, -2.33862484e-01,  1.73612565e-01,\n",
       "        1.26040392e-01, -5.90411459e-02, -9.01416342e-02, -1.30327841e-01,\n",
       "       -1.37290031e-01, -1.48784047e-01, -2.23708973e+00, -7.95769547e-02,\n",
       "        1.16930512e-01,  4.66120981e-02, -1.38504115e-01, -7.66780093e-02,\n",
       "       -1.24057103e-01,  1.18919341e-01, -2.89920341e-01, -2.73207489e-01,\n",
       "       -9.60558776e-02,  7.82010141e-02, -1.22854931e-01, -1.09340321e-01,\n",
       "       -6.07450598e-02, -1.36248968e-01,  2.79899466e-02,  1.67333592e-01,\n",
       "        2.49102120e-01,  2.65427936e-02, -1.38504115e-01,  1.67054550e-01,\n",
       "       -1.74670606e-01,  5.33917587e-02, -7.13495938e-02, -2.80620270e-01,\n",
       "        2.79899466e-02, -1.38930162e-01, -6.07450598e-02, -1.28201288e+00,\n",
       "       -2.33862484e-01, -7.95769547e-02,  2.49102120e-01, -7.38530609e-02,\n",
       "       -1.85284030e-01, -2.81490335e-01, -5.73519722e-02, -1.49275796e-01,\n",
       "        2.87743572e-02, -5.90411459e-02,  7.81023973e-02,  1.01195519e-01,\n",
       "        4.32929140e-01, -8.28665128e-02,  1.10973555e-01,  2.88228223e-01,\n",
       "       -1.22371925e-01,  2.65811038e-01, -1.48784047e-01, -1.88127914e-01,\n",
       "        1.04523752e-01, -1.94146783e-01, -3.30853882e+00,  2.65427936e-02,\n",
       "       -1.23988788e-01,  7.19598705e-02,  2.65427936e-02,  1.67054550e-01,\n",
       "        1.60268199e+00,  2.61959356e-02,  2.00466453e-01,  1.16594355e-01,\n",
       "       -6.67136121e-02, -1.25794764e-01,  2.72471683e-02, -5.46666192e-01,\n",
       "        2.68817834e-02,  1.65024243e-01, -1.91921783e+00,  3.38814101e-01,\n",
       "        8.42985274e+00,  2.76226230e-02, -1.18283751e-01,  8.52763184e-02,\n",
       "       -3.44976788e-01, -5.73519722e-02,  4.36495522e-02, -9.01416342e-02,\n",
       "        3.83437593e-01, -2.64748770e-01, -2.20922813e-01, -7.38530609e-02,\n",
       "       -1.94146783e-01, -1.63273570e-01, -7.11190033e-01,  2.79899466e-02,\n",
       "       -3.02840410e-01, -7.38530609e-02,  8.42985274e+00, -1.83305145e-01,\n",
       "        1.06575619e-01, -1.10787915e-01, -6.07450598e-02, -1.22371925e-01,\n",
       "        4.84526115e-02, -2.04153802e-01,  6.73293914e-02,  4.36495522e-02,\n",
       "       -2.81490335e-01, -1.63273570e-01,  9.80207984e-02, -2.46830009e-01,\n",
       "       -3.02840410e-01, -1.27577765e-01,  4.86560394e-01, -7.95769547e-02,\n",
       "        3.28896529e-01, -1.09340321e-01, -6.45648813e-02,  2.44218859e-01,\n",
       "        1.61949240e+00,  2.79899466e-02, -1.09741858e-01,  6.28367506e-01,\n",
       "        2.70538874e-02, -2.20922813e-01, -1.49445762e-01, -4.55711504e-02,\n",
       "       -8.08257613e-01, -1.88255319e-01,  5.63353633e-01, -3.00870560e-01,\n",
       "       -2.64748770e-01,  4.83904853e-01,  1.45950199e-01, -2.73207489e-01,\n",
       "        5.04385786e-02, -1.38930162e-01, -5.43178923e-02, -6.67136121e-02,\n",
       "       -7.38530609e-02,  2.33824505e-01, -7.13495938e-02,  1.43677819e-01,\n",
       "       -6.26433253e-02,  4.79762397e-01, -1.60101078e-01,  2.65387841e-01,\n",
       "       -2.80528098e+00, -6.26433253e-02, -1.20342896e-01, -6.26433253e-02,\n",
       "        8.82542042e-02, -9.88171105e-02, -1.21948627e-01,  6.28367506e-01,\n",
       "        8.22070709e-02,  6.36184506e-02, -1.50976636e-01,  3.14887218e-01,\n",
       "       -1.39545148e-01, -3.80259669e-02,  1.72746343e+02,  2.61959356e-02,\n",
       "       -5.90411459e-02, -1.60670624e-01, -7.38530609e-02, -7.51643193e-01,\n",
       "        5.92534825e-02,  2.68817834e-02, -1.39626344e-01,  3.47019876e-01,\n",
       "       -8.28665128e-02,  1.68220761e-01,  3.97960347e-01, -1.09340321e-01,\n",
       "        1.26040392e-01, -5.46666192e-01, -2.64748770e-01,  7.65458015e-02,\n",
       "       -1.92753070e+01, -6.45648813e-02,  1.73336238e-01,  6.24047176e-01,\n",
       "       -9.88171105e-02, -1.91969922e-01,  4.95942548e-02, -1.15648308e-01])"
      ]
     },
     "execution_count": 55,
     "metadata": {},
     "output_type": "execute_result"
    }
   ],
   "source": [
    "beta"
   ]
  },
  {
   "cell_type": "code",
   "execution_count": 56,
   "id": "abcbbfa9",
   "metadata": {},
   "outputs": [],
   "source": [
    "# Make predictions on the test data\n",
    "y_pred, sigma = gp.predict(X_test, return_std = True)"
   ]
  },
  {
   "cell_type": "code",
   "execution_count": 57,
   "id": "0bf371fa",
   "metadata": {},
   "outputs": [
    {
     "data": {
      "image/png": "[encoded data removed]",
      "text/plain": [
       "<Figure size 432x288 with 1 Axes>"
      ]
     },
     "metadata": {
      "needs_background": "light"
     },
     "output_type": "display_data"
    }
   ],
   "source": [
    "# Plot the results\n",
    "plt.figure()\n",
    "plt.plot(X_test, y_test, 'r:', label=u'$f(x)$')\n",
    "plt.plot(X_test, y_pred, 'b-', label=u'Prediction')\n",
    "plt.fill(np.concatenate([X_test, X_test[::-1]]),\n",
    "         np.concatenate([y_pred - 1.9600 * sigma,\n",
    "                        (y_pred + 1.9600 * sigma)[::-1]]),\n",
    "         alpha=.5, fc='b', ec='None', label='95% confidence interval')\n",
    "plt.xlabel('$x$')\n",
    "plt.ylabel('$f(x)$')\n",
    "plt.ylim(-1, 20)\n",
    "plt.legend(loc='upper left')\n",
    "plt.show()"
   ]
  },
  {
   "cell_type": "code",
   "execution_count": null,
   "id": "4720afe9",
   "metadata": {},
   "outputs": [],
   "source": []
  }
 ],
 "metadata": {
  "kernelspec": {
   "display_name": "Python 3",
   "language": "python",
   "name": "python3"
  },
  "language_info": {
   "codemirror_mode": {
    "name": "ipython",
    "version": 3
   },
   "file_extension": ".py",
   "mimetype": "text/x-python",
   "name": "python",
   "nbconvert_exporter": "python",
   "pygments_lexer": "ipython3",
   "version": "3.9.9"
  }
 },
 "nbformat": 4,
 "nbformat_minor": 5
}
