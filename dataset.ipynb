{
 "cells": [
  {
   "cell_type": "code",
   "execution_count": 39,
   "id": "4edaf827",
   "metadata": {},
   "outputs": [],
   "source": [
    "import numpy as np\n",
    "import pandas as pd\n",
    "import os"
   ]
  },
  {
   "cell_type": "code",
   "execution_count": 40,
   "id": "db02acce",
   "metadata": {},
   "outputs": [],
   "source": [
    "meta_data = pd.read_csv('Data/meta_data.csv')"
   ]
  },
  {
   "cell_type": "code",
   "execution_count": 41,
   "id": "fe0a1789",
   "metadata": {},
   "outputs": [
    {
     "data": {
      "text/html": [
       "<div>\n",
       "<style scoped>\n",
       "    .dataframe tbody tr th:only-of-type {\n",
       "        vertical-align: middle;\n",
       "    }\n",
       "\n",
       "    .dataframe tbody tr th {\n",
       "        vertical-align: top;\n",
       "    }\n",
       "\n",
       "    .dataframe thead th {\n",
       "        text-align: right;\n",
       "    }\n",
       "</style>\n",
       "<table border=\"1\" class=\"dataframe\">\n",
       "  <thead>\n",
       "    <tr style=\"text-align: right;\">\n",
       "      <th></th>\n",
       "      <th>ID</th>\n",
       "      <th>ACTIVATED</th>\n",
       "      <th>IN_REPAIR_SYSTEM</th>\n",
       "      <th>STILL_ALIVE</th>\n",
       "      <th>Lifetime</th>\n",
       "    </tr>\n",
       "  </thead>\n",
       "  <tbody>\n",
       "    <tr>\n",
       "      <th>0</th>\n",
       "      <td>0</td>\n",
       "      <td>1/31/2019</td>\n",
       "      <td>NaN</td>\n",
       "      <td>True</td>\n",
       "      <td>593</td>\n",
       "    </tr>\n",
       "    <tr>\n",
       "      <th>1</th>\n",
       "      <td>1</td>\n",
       "      <td>12/4/2018</td>\n",
       "      <td>NaN</td>\n",
       "      <td>True</td>\n",
       "      <td>651</td>\n",
       "    </tr>\n",
       "    <tr>\n",
       "      <th>2</th>\n",
       "      <td>2</td>\n",
       "      <td>4/18/2019</td>\n",
       "      <td>NaN</td>\n",
       "      <td>True</td>\n",
       "      <td>516</td>\n",
       "    </tr>\n",
       "    <tr>\n",
       "      <th>3</th>\n",
       "      <td>3</td>\n",
       "      <td>3/5/2019</td>\n",
       "      <td>NaN</td>\n",
       "      <td>True</td>\n",
       "      <td>560</td>\n",
       "    </tr>\n",
       "    <tr>\n",
       "      <th>4</th>\n",
       "      <td>4</td>\n",
       "      <td>12/6/2018</td>\n",
       "      <td>NaN</td>\n",
       "      <td>True</td>\n",
       "      <td>649</td>\n",
       "    </tr>\n",
       "    <tr>\n",
       "      <th>...</th>\n",
       "      <td>...</td>\n",
       "      <td>...</td>\n",
       "      <td>...</td>\n",
       "      <td>...</td>\n",
       "      <td>...</td>\n",
       "    </tr>\n",
       "    <tr>\n",
       "      <th>1022</th>\n",
       "      <td>1022</td>\n",
       "      <td>11/3/2018</td>\n",
       "      <td>9/11/2020</td>\n",
       "      <td>False</td>\n",
       "      <td>678</td>\n",
       "    </tr>\n",
       "    <tr>\n",
       "      <th>1023</th>\n",
       "      <td>1023</td>\n",
       "      <td>12/28/2018</td>\n",
       "      <td>6/3/2020</td>\n",
       "      <td>False</td>\n",
       "      <td>523</td>\n",
       "    </tr>\n",
       "    <tr>\n",
       "      <th>1024</th>\n",
       "      <td>1024</td>\n",
       "      <td>1/10/2019</td>\n",
       "      <td>6/11/2020</td>\n",
       "      <td>False</td>\n",
       "      <td>518</td>\n",
       "    </tr>\n",
       "    <tr>\n",
       "      <th>1025</th>\n",
       "      <td>1025</td>\n",
       "      <td>9/5/2018</td>\n",
       "      <td>2/9/2020</td>\n",
       "      <td>False</td>\n",
       "      <td>522</td>\n",
       "    </tr>\n",
       "    <tr>\n",
       "      <th>1026</th>\n",
       "      <td>1026</td>\n",
       "      <td>1/17/2019</td>\n",
       "      <td>9/18/2020</td>\n",
       "      <td>False</td>\n",
       "      <td>610</td>\n",
       "    </tr>\n",
       "  </tbody>\n",
       "</table>\n",
       "<p>1027 rows × 5 columns</p>\n",
       "</div>"
      ],
      "text/plain": [
       "        ID   ACTIVATED IN_REPAIR_SYSTEM  STILL_ALIVE  Lifetime\n",
       "0        0   1/31/2019              NaN         True       593\n",
       "1        1   12/4/2018              NaN         True       651\n",
       "2        2   4/18/2019              NaN         True       516\n",
       "3        3    3/5/2019              NaN         True       560\n",
       "4        4   12/6/2018              NaN         True       649\n",
       "...    ...         ...              ...          ...       ...\n",
       "1022  1022   11/3/2018        9/11/2020        False       678\n",
       "1023  1023  12/28/2018         6/3/2020        False       523\n",
       "1024  1024   1/10/2019        6/11/2020        False       518\n",
       "1025  1025    9/5/2018         2/9/2020        False       522\n",
       "1026  1026   1/17/2019        9/18/2020        False       610\n",
       "\n",
       "[1027 rows x 5 columns]"
      ]
     },
     "execution_count": 41,
     "metadata": {},
     "output_type": "execute_result"
    }
   ],
   "source": [
    "meta_data"
   ]
  },
  {
   "cell_type": "code",
   "execution_count": 42,
   "id": "2835208f",
   "metadata": {},
   "outputs": [
    {
     "data": {
      "text/html": [
       "<div>\n",
       "<style scoped>\n",
       "    .dataframe tbody tr th:only-of-type {\n",
       "        vertical-align: middle;\n",
       "    }\n",
       "\n",
       "    .dataframe tbody tr th {\n",
       "        vertical-align: top;\n",
       "    }\n",
       "\n",
       "    .dataframe thead th {\n",
       "        text-align: right;\n",
       "    }\n",
       "</style>\n",
       "<table border=\"1\" class=\"dataframe\">\n",
       "  <thead>\n",
       "    <tr style=\"text-align: right;\">\n",
       "      <th></th>\n",
       "      <th>ID</th>\n",
       "      <th>Lifetime</th>\n",
       "    </tr>\n",
       "  </thead>\n",
       "  <tbody>\n",
       "    <tr>\n",
       "      <th>count</th>\n",
       "      <td>1027.000000</td>\n",
       "      <td>1027.000000</td>\n",
       "    </tr>\n",
       "    <tr>\n",
       "      <th>mean</th>\n",
       "      <td>513.000000</td>\n",
       "      <td>531.314508</td>\n",
       "    </tr>\n",
       "    <tr>\n",
       "      <th>std</th>\n",
       "      <td>296.613666</td>\n",
       "      <td>92.324199</td>\n",
       "    </tr>\n",
       "    <tr>\n",
       "      <th>min</th>\n",
       "      <td>0.000000</td>\n",
       "      <td>401.000000</td>\n",
       "    </tr>\n",
       "    <tr>\n",
       "      <th>25%</th>\n",
       "      <td>256.500000</td>\n",
       "      <td>453.000000</td>\n",
       "    </tr>\n",
       "    <tr>\n",
       "      <th>50%</th>\n",
       "      <td>513.000000</td>\n",
       "      <td>519.000000</td>\n",
       "    </tr>\n",
       "    <tr>\n",
       "      <th>75%</th>\n",
       "      <td>769.500000</td>\n",
       "      <td>592.500000</td>\n",
       "    </tr>\n",
       "    <tr>\n",
       "      <th>max</th>\n",
       "      <td>1026.000000</td>\n",
       "      <td>761.000000</td>\n",
       "    </tr>\n",
       "  </tbody>\n",
       "</table>\n",
       "</div>"
      ],
      "text/plain": [
       "                ID     Lifetime\n",
       "count  1027.000000  1027.000000\n",
       "mean    513.000000   531.314508\n",
       "std     296.613666    92.324199\n",
       "min       0.000000   401.000000\n",
       "25%     256.500000   453.000000\n",
       "50%     513.000000   519.000000\n",
       "75%     769.500000   592.500000\n",
       "max    1026.000000   761.000000"
      ]
     },
     "execution_count": 42,
     "metadata": {},
     "output_type": "execute_result"
    }
   ],
   "source": [
    "meta_data.describe()"
   ]
  },
  {
   "cell_type": "code",
   "execution_count": 43,
   "id": "180cf294",
   "metadata": {},
   "outputs": [],
   "source": [
    "# Number of Batteries.\n",
    "N = 1027"
   ]
  },
  {
   "cell_type": "code",
   "execution_count": 44,
   "id": "dc0a9658",
   "metadata": {},
   "outputs": [],
   "source": [
    "def data(N):\n",
    "    data = []\n",
    "    \n",
    "    path = f\"{N}.npz\"\n",
    "    path = os.path.join(\"Data/npz/\", path)\n",
    "    \n",
    "    bat_files = np.load(path)\n",
    "    bat_files.files\n",
    "    \n",
    "    for bat_file in bat_files['arr_0']:\n",
    "        data.append(bat_file)\n",
    "    \n",
    "    return data"
   ]
  },
  {
   "cell_type": "code",
   "execution_count": 45,
   "id": "c6767b13",
   "metadata": {},
   "outputs": [],
   "source": [
    "data = data(N = 10)"
   ]
  },
  {
   "cell_type": "code",
   "execution_count": 46,
   "id": "49f8fc1b",
   "metadata": {},
   "outputs": [],
   "source": [
    "# data"
   ]
  },
  {
   "cell_type": "code",
   "execution_count": 47,
   "id": "e719d39d",
   "metadata": {},
   "outputs": [
    {
     "data": {
      "text/plain": [
       "487187"
      ]
     },
     "execution_count": 47,
     "metadata": {},
     "output_type": "execute_result"
    }
   ],
   "source": [
    "len(data)"
   ]
  },
  {
   "cell_type": "code",
   "execution_count": 48,
   "id": "6b18f1df",
   "metadata": {},
   "outputs": [],
   "source": [
    "# Time-stamps.\n",
    "\n",
    "t = []\n",
    "for row in data:\n",
    "    t.append(row[0])"
   ]
  },
  {
   "cell_type": "code",
   "execution_count": 49,
   "id": "aeacad66",
   "metadata": {
    "scrolled": true
   },
   "outputs": [],
   "source": [
    "# Current Data.\n",
    "\n",
    "C = []\n",
    "for row in data:\n",
    "    C.append(row[1])"
   ]
  },
  {
   "cell_type": "code",
   "execution_count": 50,
   "id": "9f5513fd",
   "metadata": {},
   "outputs": [],
   "source": [
    "# Voltage Data.\n",
    "\n",
    "V = []\n",
    "for row in data:\n",
    "    V.append(row[2])"
   ]
  },
  {
   "cell_type": "code",
   "execution_count": 51,
   "id": "ae7da7b3",
   "metadata": {},
   "outputs": [],
   "source": [
    "# Temperature Data.\n",
    "\n",
    "T = []\n",
    "for row in data:\n",
    "    T.append(row[3])"
   ]
  },
  {
   "cell_type": "code",
   "execution_count": 52,
   "id": "8b2ea795",
   "metadata": {},
   "outputs": [
    {
     "data": {
      "text/plain": [
       "60.0"
      ]
     },
     "execution_count": 52,
     "metadata": {},
     "output_type": "execute_result"
    }
   ],
   "source": [
    "t[2] - t[1]"
   ]
  },
  {
   "cell_type": "code",
   "execution_count": null,
   "id": "4c472680",
   "metadata": {},
   "outputs": [],
   "source": []
  }
 ],
 "metadata": {
  "kernelspec": {
   "display_name": "Python 3",
   "language": "python",
   "name": "python3"
  },
  "language_info": {
   "codemirror_mode": {
    "name": "ipython",
    "version": 3
   },
   "file_extension": ".py",
   "mimetype": "text/x-python",
   "name": "python",
   "nbconvert_exporter": "python",
   "pygments_lexer": "ipython3",
   "version": "3.9.9"
  }
 },
 "nbformat": 4,
 "nbformat_minor": 5
}
